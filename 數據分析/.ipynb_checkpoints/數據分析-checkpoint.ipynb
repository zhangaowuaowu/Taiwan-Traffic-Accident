{
 "cells": [
  {
   "cell_type": "code",
   "execution_count": null,
   "id": "b602e5db-2081-42a2-883c-dd265858d902",
   "metadata": {},
   "outputs": [],
   "source": [
    "import numpy as np\n",
    "import pandas as pd\n",
    "import matplotlib.pyplot as plt\n",
    "import seaborn as sns\n",
    "from scipy.stats import gaussian_kde\n",
    "from sklearn.preprocessing import StandardScaler, FunctionTransformer\n",
    "from sklearn.decomposition import PCA\n",
    "from sklearn.pipeline import Pipeline\n",
    "from sklearn.metrics import accuracy_score, confusion_matrix, classification_report\n",
    "from yellowbrick.classifier import ClassificationReport\n",
    "from sklearn.model_selection import train_test_split, GridSearchCV, KFold, cross_val_score, learning_curve\n",
    "from sklearn.base import clone\n",
    "from itertools import combinations\n",
    "import pickle\n",
    "from sklearn.linear_model  import LogisticRegression\n",
    "from sklearn.neighbors import KNeighborsClassifier\n",
    "from sklearn.ensemble import RandomForestClassifier\n",
    "import xgboost as xgb"
   ]
  },
  {
   "cell_type": "markdown",
   "id": "04a1c883-660d-4890-bcf7-bb18a3e8cd57",
   "metadata": {},
   "source": [
    "---"
   ]
  },
  {
   "cell_type": "markdown",
   "id": "69c0e54b-d37c-49a0-9f73-f9b89d590546",
   "metadata": {},
   "source": [
    "# 切訓練集和測試集\n",
    "訓練: 2018-2021\n",
    "測試: 2022"
   ]
  },
  {
   "cell_type": "code",
   "execution_count": null,
   "id": "7029fda7-b135-4be5-b85b-b10d0fbd492d",
   "metadata": {},
   "outputs": [],
   "source": [
    "df_pos = pd.read_csv(\"pos_data(12-26已刪除離群值).csv\", encoding='utf-8-sig')\n",
    "df_neg = pd.read_csv(\"neg_data(12-26已刪除離群值).csv\", encoding='utf-8-sig')\n",
    "\n",
    "df_neg = df_neg.iloc[:df_pos.shape[0],:]\n",
    "\n",
    "df = pd.concat([df_pos, df_neg], axis=0)\n",
    "df2018to2021 = df[df['發生年度']!=2022] \n",
    "df2022 = df[df['發生年度']==2022] \n",
    "\n",
    "X_train, y_train = df2018to2021.iloc[:,:-1], df2018to2021.iloc[:,-1]\n",
    "X_test, y_test = df2022.iloc[:,:-1], df2022.iloc[:,-1]"
   ]
  },
  {
   "cell_type": "markdown",
   "id": "a0b45406-0e25-4dea-a8f9-8fce3d34b281",
   "metadata": {},
   "source": [
    "---"
   ]
  },
  {
   "cell_type": "markdown",
   "id": "cd8cd41b-fa76-4c7c-97b2-852a117f70a6",
   "metadata": {
    "tags": []
   },
   "source": [
    "# 界外值處理"
   ]
  },
  {
   "cell_type": "markdown",
   "id": "ee5d2971-c247-4011-8f21-63cf85da23ba",
   "metadata": {
    "tags": []
   },
   "source": [
    "### 檢視連續變數中，在Q3+1.5IQR及Q1-1.5IQR之外的特徵\n",
    "-氣溫(℃)、測站氣壓(hPa)、相對溼度(%)_x、降水量(mm)_x、風速(m/s)_x、population_density、流量加權"
   ]
  },
  {
   "cell_type": "code",
   "execution_count": null,
   "id": "981261b6-371d-4452-b006-dafccbe732c2",
   "metadata": {},
   "outputs": [],
   "source": [
    "for feature in df.columns:\n",
    "    data = df[f'{feature}']\n",
    "    \n",
    "    Q1 = np.quantile(data,0.25)\n",
    "    Q3 = np.quantile(data,0.75)\n",
    "    IQR = Q3 - Q1\n",
    "    \n",
    "    up_bound = Q3 + 1.5*IQR;   down_bound = Q1 - 1.5*IQR\n",
    "    up_mask = data > up_bound; down_mask = data < down_bound\n",
    "    out_mask = up_mask|down_mask\n",
    "    \n",
    "    print(f'{feature}的outlier有: ',data[out_mask].shape[0], '筆')"
   ]
  },
  {
   "cell_type": "markdown",
   "id": "a19e31ef-5a25-484a-9e84-b6b2b8acfa40",
   "metadata": {},
   "source": [
    "### 有界外值的特徵的盒鬚圖\n",
    "-氣溫(℃)、測站氣壓(hPa)、相對溼度(%)_x、降水量(mm)_x、風速(m/s)_x、population_density、流量加權"
   ]
  },
  {
   "cell_type": "code",
   "execution_count": null,
   "id": "4a9b070e-891e-49ff-af75-de859c3cde20",
   "metadata": {},
   "outputs": [],
   "source": [
    "for feature in df.columns[-9:-1]:\n",
    "    data = df[f'{feature}']\n",
    "    \n",
    "    Q1 = np.quantile(data,0.25)\n",
    "    Q3 = np.quantile(data,0.75)\n",
    "    IQR = Q3 - Q1\n",
    "    \n",
    "    up_bound = Q3 + 1.5*IQR;   down_bound = Q1 - 1.5*IQR\n",
    "    up_mask = data > up_bound; down_mask = data < down_bound\n",
    "    out_mask = up_mask|down_mask\n",
    "    \n",
    "    if outlier_num:=(df[out_mask].shape[0]):\n",
    "        data.plot.box()\n",
    "        plt.show()\n",
    "    \n",
    "    \n",
    "    print(f'{feature}的outlier有: ',data[out_mask].shape[0],'筆')"
   ]
  },
  {
   "cell_type": "markdown",
   "id": "7db2e645-7336-4a5e-8997-9d885f6dbdab",
   "metadata": {},
   "source": [
    "### 清除界外值"
   ]
  },
  {
   "cell_type": "markdown",
   "id": "014b372a-10eb-4f34-8a9b-c5f125b52182",
   "metadata": {},
   "source": [
    "先看刪掉所有界外值後的表"
   ]
  },
  {
   "cell_type": "code",
   "execution_count": null,
   "id": "37c65878-7872-480b-b2da-a7a4a096c9d0",
   "metadata": {},
   "outputs": [],
   "source": [
    "df_noOutlier = df\n",
    "eliminate_mask = pd.Series\n",
    "eliminate_sum = 0\n",
    "for feature in df_noOutlier.columns[-9:-1]:\n",
    "    \n",
    "    data = df_noOutlier[f'{feature}']\n",
    "    Q1 = np.quantile(data,0.25)\n",
    "    Q3 = np.quantile(data,0.75)\n",
    "    IQR = Q3 - Q1\n",
    "    up_bound = Q3 + 1.5*IQR\n",
    "    down_bound = Q1 - 1.5*IQR\n",
    "    up_mask = data > up_bound\n",
    "    down_mask = data < down_bound\n",
    "    out_mask = up_mask|down_mask\n",
    "    in_mask =  ~out_mask\n",
    "\n",
    "    if outlier_num:=(df_noOutlier[out_mask].shape[0]):\n",
    "        if eliminate_mask.shape != out_mask.shape:\n",
    "            eliminate_mask = out_mask\n",
    "        else:\n",
    "            eliminate_mask = eliminate_mask | out_mask\n",
    "        \n",
    "        eliminate_sum += outlier_num\n",
    "        print(f'{feature}界外值:\\t\\t{outlier_num}筆')\n",
    "    # df_noOutlier = df_noOutlier[in_mask]\n",
    "print(f'共需刪除{eliminate_mask.sum()}筆')\n",
    "df_noOutlier = df_noOutlier[~eliminate_mask]\n",
    "df_noOutlier"
   ]
  },
  {
   "cell_type": "markdown",
   "id": "1c5754ce-ca94-4197-8dfd-865440ae125a",
   "metadata": {},
   "source": [
    "再把原有界外值的特徵畫盒鬚圖"
   ]
  },
  {
   "cell_type": "code",
   "execution_count": null,
   "id": "477c3660-ac6c-41c4-b0cb-d10cc01f37e1",
   "metadata": {},
   "outputs": [],
   "source": [
    "for feature in df_noOutlier.columns[-9:-1]:\n",
    "    data = df_noOutlier[f'{feature}']\n",
    "    \n",
    "    Q1 = np.quantile(data,0.25)\n",
    "    Q3 = np.quantile(data,0.75)\n",
    "    IQR = Q3 - Q1\n",
    "    \n",
    "    up_bound = Q3 + 1.5*IQR;   down_bound = Q1 - 1.5*IQR\n",
    "    up_mask = data > up_bound; down_mask = data < down_bound\n",
    "    out_mask = up_mask|down_mask\n",
    "    \n",
    "    if outlier_num:=(df_noOutlier[out_mask].shape[0]):\n",
    "        data.plot.box()\n",
    "        plt.show()\n",
    "    \n",
    "    \n",
    "    print(f'{feature}的outlier有: ',data[out_mask].shape[0],'筆')"
   ]
  },
  {
   "cell_type": "markdown",
   "id": "ab2ef6fa-08b6-40b0-8c6a-cfb9f5c678f5",
   "metadata": {},
   "source": [
    "#### 賦值給df"
   ]
  },
  {
   "cell_type": "code",
   "execution_count": null,
   "id": "bd43c81f-78d1-4be7-b73b-4119fdcbcf6d",
   "metadata": {},
   "outputs": [],
   "source": [
    "df = df_noOutlier"
   ]
  },
  {
   "cell_type": "markdown",
   "id": "c614ce56-6ad9-4d6c-b3f0-124e08214f43",
   "metadata": {},
   "source": [
    "---"
   ]
  },
  {
   "cell_type": "markdown",
   "id": "e5e33aec-fc29-4233-bee4-8336977daa00",
   "metadata": {
    "tags": []
   },
   "source": [
    "# 標準化"
   ]
  },
  {
   "cell_type": "code",
   "execution_count": null,
   "id": "13253e1e-4865-40b7-8767-177f9a248bcd",
   "metadata": {},
   "outputs": [],
   "source": [
    "scaler = StandardScaler()\n",
    "df_std = pd.DataFrame(scaler.fit_transform(df),columns=df.columns)"
   ]
  },
  {
   "cell_type": "markdown",
   "id": "4cd06915-a7cf-49c9-a3b9-7ecd509e3d4a",
   "metadata": {},
   "source": [
    "---"
   ]
  },
  {
   "cell_type": "markdown",
   "id": "d568aa34-fde4-4968-bcca-e8a83944c792",
   "metadata": {
    "tags": []
   },
   "source": [
    "# 偏態"
   ]
  },
  {
   "cell_type": "markdown",
   "id": "2bcf1603-0996-42ff-a6ac-b713dd8d9228",
   "metadata": {
    "tags": []
   },
   "source": [
    "### 正負樣本一起看"
   ]
  },
  {
   "cell_type": "markdown",
   "id": "dda13b85-41ed-4095-aacb-b5914f0806a0",
   "metadata": {},
   "source": [
    "#### 單純標準化，尚未log轉換前所有變數的偏態"
   ]
  },
  {
   "cell_type": "code",
   "execution_count": null,
   "id": "41feaacb-4b20-478a-a5bc-bfae20b70aa6",
   "metadata": {},
   "outputs": [],
   "source": [
    "def skew(column:pd.Series):\n",
    "    return pd.Series([column.skew()], index=['偏態'])\n",
    "    \n",
    "skew_origin = df_std.apply(skew, axis=0).T\n",
    "skew_origin"
   ]
  },
  {
   "cell_type": "markdown",
   "id": "b509f8cd-7ac9-4124-8bec-98b6f405903c",
   "metadata": {},
   "source": [
    "#### log轉換前，不看類別變數，只看量化變數的偏態的話，偏態大於4的特徵有\n",
    "-氣壓、濕度、降水量、風速、人口密度、流量"
   ]
  },
  {
   "cell_type": "code",
   "execution_count": null,
   "id": "875a43eb-0047-406a-8468-6d49b6163b90",
   "metadata": {},
   "outputs": [],
   "source": [
    "skew_origin_above1 = skew_origin[abs(skew_origin.偏態)>1].iloc[7:]\n",
    "skew_origin_above1"
   ]
  },
  {
   "cell_type": "code",
   "execution_count": null,
   "id": "71ca333b-e68f-4d33-b79d-4f9674250ec9",
   "metadata": {},
   "outputs": [],
   "source": [
    "plt.rcParams['font.sans-serif'] = ['Noto Serif TC']"
   ]
  },
  {
   "cell_type": "code",
   "execution_count": null,
   "id": "410b4019-3f70-4695-9bf2-20040e200cba",
   "metadata": {},
   "outputs": [],
   "source": [
    "for feature in skew_origin_above1.index:\n",
    "\n",
    "    data = df_std[feature].sample(100000)\n",
    "    \n",
    "    density = gaussian_kde(data)\n",
    "    print(data.min(),data.max())\n",
    "    xs = np.linspace(data.min(),data.max(),200)\n",
    "    density.covariance_factor = lambda : .25\n",
    "    density._compute_covariance()\n",
    "    skew = skew_origin_above1.loc[feature, '偏態']\n",
    "    plt.plot(xs,density(xs),label=f'偏態={skew:.2f}')\n",
    "\n",
    "    plt.xlabel(f'{feature}')\n",
    "    plt.ylabel(f'比例')\n",
    "    plt.title(f'{feature}偏態圖')\n",
    "    plt.legend()\n",
    "    \n",
    "    plt.show()"
   ]
  },
  {
   "cell_type": "markdown",
   "id": "ee6d9985-65b1-471c-8af4-e8c92c3094d0",
   "metadata": {},
   "source": [
    "### log轉換\n",
    "  [ '測站氣壓(hPa)_x', '相對溼度(%)_x', '降水量(mm)_x','風速(m/s)_x', 'population_density', '流量加權']"
   ]
  },
  {
   "cell_type": "code",
   "execution_count": null,
   "id": "9a9f40d5-85a8-4ee4-9317-3f484ed9d152",
   "metadata": {},
   "outputs": [],
   "source": [
    "class logData():\n",
    "    def __init__(self):\n",
    "        self.chose_to_log = [16,17,18,20,21,22]\n",
    "        # [ '測站氣壓(hPa)_x', '相對溼度(%)_x', '降水量(mm)_x','風速(m/s)_x', 'population_density', '流量加權']\n",
    "        \n",
    "    def fit(self, X, y=None):\n",
    "        return self\n",
    "    \n",
    "    def transform(self, X):\n",
    "        df_log = X.copy()\n",
    "        df_log = np.array(df_log)\n",
    "        \n",
    "        feature_log = df_log[:,self.chose_to_log].copy()\n",
    "        feature_log[feature_log <= 0] = 1e-10\n",
    "                \n",
    "        # log轉換，合併回表中\n",
    "        feature_log = np.log1p(feature_log)\n",
    "        df_log[:,self.chose_to_log] = feature_log \n",
    "        \n",
    "        return df_log   "
   ]
  },
  {
   "cell_type": "code",
   "execution_count": null,
   "id": "bcea0762-9510-4d97-b50c-74b9661e8a90",
   "metadata": {},
   "outputs": [],
   "source": [
    "log_scaler = logData().fit(df)\n",
    "df_log = log_scaler.transform(df)\n",
    "df_log = pd.DataFrame(df_log, columns=df.columns)\n",
    "df_log"
   ]
  },
  {
   "cell_type": "markdown",
   "id": "64ddc862-65b0-4852-94fb-a77072df892f",
   "metadata": {
    "tags": []
   },
   "source": [
    "### 正負樣本一起看"
   ]
  },
  {
   "cell_type": "markdown",
   "id": "40896cf7-432c-40f9-9999-0c10c558bb26",
   "metadata": {},
   "source": [
    "#### log轉換後所有變數的偏態"
   ]
  },
  {
   "cell_type": "markdown",
   "id": "f227f808-a69b-4234-9652-21c560024bd9",
   "metadata": {},
   "source": [
    "#### log轉換後再標準化"
   ]
  },
  {
   "cell_type": "code",
   "execution_count": null,
   "id": "dceb5371-851a-4017-93b7-49239d79c640",
   "metadata": {},
   "outputs": [],
   "source": [
    "scaler = StandardScaler().fit(df_log)\n",
    "df_log_std = pd.DataFrame(scaler.fit_transform(df_log),columns=df_log.columns)\n",
    "df_log_std "
   ]
  },
  {
   "cell_type": "markdown",
   "id": "1af7233d-055c-4ff4-974c-f1171f555d5c",
   "metadata": {},
   "source": [
    "#### log轉換後標準化，再檢視偏態\n",
    "#### (看起來log轉換對於測站氣壓、濕度的偏態沒有幫助，但是對降水量、風速、人口密度、流量則有幫助)"
   ]
  },
  {
   "cell_type": "code",
   "execution_count": null,
   "id": "4e3a3a91-d5ee-4969-b72f-0a3ae27d0188",
   "metadata": {
    "tags": []
   },
   "outputs": [],
   "source": [
    "def skew(column:pd.Series):\n",
    "    return pd.Series([column.skew()], index=['偏態'])\n",
    "    \n",
    "skew_log = df_log_std .apply(skew, axis=0).T\n",
    "skew_log\n",
    "pd.concat([skew_origin, skew_log],axis=1,names=['log轉換前偏態','log轉換後偏態']).loc[['測站氣壓(hPa)_x', '相對溼度(%)_x', '降水量(mm)_x','風速(m/s)_x', 'population_density', '流量加權'],:]"
   ]
  },
  {
   "cell_type": "markdown",
   "id": "92e0f94c-1597-4757-8fbc-1f33bdb64529",
   "metadata": {},
   "source": [
    "### 只對降水量、風速、人口密度、流量做log，再做標準化"
   ]
  },
  {
   "cell_type": "code",
   "execution_count": null,
   "id": "9e8c28c8-02e6-44a4-a584-13ae3e249964",
   "metadata": {},
   "outputs": [],
   "source": [
    "class logData():\n",
    "    def __init__(self):\n",
    "        self.chose_to_log = [18,20,21,22]\n",
    "        # ['降水量(mm)_x','風速(m/s)_x', 'population_density', '流量加權']\n",
    "        \n",
    "    def fit(self, X, y=None):\n",
    "        return self\n",
    "    \n",
    "    def transform(self, X):\n",
    "        df_log = X.copy()\n",
    "        df_log = np.array(df_log)\n",
    "        \n",
    "        feature_log = df_log[:,self.chose_to_log].copy()\n",
    "        feature_log[feature_log <= 0] = 1e-10\n",
    "                \n",
    "        # log轉換，合併回表中\n",
    "        feature_log = np.log1p(feature_log)\n",
    "        df_log[:,self.chose_to_log] = feature_log \n",
    "        \n",
    "        return df_log   "
   ]
  },
  {
   "cell_type": "code",
   "execution_count": null,
   "id": "1e0c1dc2-2cbf-4ba3-b658-26e3efbeaa4e",
   "metadata": {},
   "outputs": [],
   "source": [
    "log_scaler = logData().fit(df)\n",
    "df_log = log_scaler.transform(df)\n",
    "df_log = pd.DataFrame(df_log, columns=df.columns)"
   ]
  },
  {
   "cell_type": "code",
   "execution_count": null,
   "id": "ce84320d-8b3b-4ebe-95b5-533244035468",
   "metadata": {},
   "outputs": [],
   "source": [
    "scaler = StandardScaler().fit(df_log)\n",
    "df_log_std = pd.DataFrame(scaler.fit_transform(df_log),columns=df_log.columns)\n",
    "df_log_std "
   ]
  },
  {
   "cell_type": "code",
   "execution_count": null,
   "id": "e6ff9142-5c79-49cf-bed1-781ba404ee5f",
   "metadata": {},
   "outputs": [],
   "source": [
    "def skew(column:pd.Series):\n",
    "    return pd.Series([column.skew()], index=['偏態'])\n",
    "    \n",
    "skew_log = df_log_std.apply(skew, axis=0).T\n",
    "pre_after_skew = pd.concat([skew_origin, skew_log],axis=1).loc[['測站氣壓(hPa)_x', '相對溼度(%)_x', '降水量(mm)_x','風速(m/s)_x', 'population_density', '流量加權'],:]\n",
    "pre_after_skew.columns = ['log轉換前偏態','log轉換後偏態']\n",
    "pre_after_skew"
   ]
  },
  {
   "cell_type": "markdown",
   "id": "9c70228c-8ce7-41f7-afd7-eca29e8ab13c",
   "metadata": {},
   "source": [
    "### log轉換前後偏態視覺圖\n",
    "[ '降水量(mm)_x','風速(m/s)_x', 'population_density', '流量加權']"
   ]
  },
  {
   "cell_type": "code",
   "execution_count": null,
   "id": "e0398183-38c6-4ef6-9292-2c4e3cb1dfc7",
   "metadata": {},
   "outputs": [],
   "source": [
    "pre_after_skew = pre_after_skew.loc[[ '降水量(mm)_x','風速(m/s)_x', 'population_density', '流量加權'],:]\n",
    "\n",
    "for feature in pre_after_skew.index:\n",
    "\n",
    "    data_origin = df_std[feature].sample(100000)\n",
    "    data_log = df_log_std[feature].sample(100000)\n",
    "    \n",
    "    \n",
    "    # 建立一張包含兩張子圖的圖表\n",
    "    fig, ax = plt.subplots(1,1,sharex=True, sharey=True)\n",
    "\n",
    "    # 定義 X 軸的數值區間（第一張圖的分布）\n",
    "    x1 = np.linspace(np.quantile(data_origin, 0.05),np.quantile(data_origin, 0.95),200)\n",
    "    density_origin = gaussian_kde(data_origin)\n",
    "\n",
    "    # 定義 Y 軸的數值（第一張圖的分布）\n",
    "    density_origin.covariance_factor = lambda : .25\n",
    "    density_origin._compute_covariance()\n",
    "    y1 = density_origin(x1)\n",
    "\n",
    "    # 繪製第一張圖\n",
    "    pre_skew = pre_after_skew.loc[feature, 'log轉換前偏態']\n",
    "    ax.plot(x1, y1, label=f'log轉換前\\n偏態 = {pre_skew:.2f}')\n",
    "    \n",
    "    # 標示圖例\n",
    "    # fig.legend()\n",
    "\n",
    "    # 建立第二張子圖\n",
    "    # 定義 X 軸的數值區間（第二張圖的分布）\n",
    "    x2 =  np.linspace(np.quantile(data_log, 0.05),np.quantile(data_log, 0.95),200)\n",
    "    density_log = gaussian_kde(data_log)\n",
    "\n",
    "    # 定義 Y 軸的數值（第二張圖的分布）\n",
    "    density_log.covariance_factor = lambda : .25\n",
    "    density_log._compute_covariance()\n",
    "    y2 = density_log(x2)\n",
    "\n",
    "    # 繪製第二張圖\n",
    "    after_skew = pre_after_skew.loc[feature, 'log轉換後偏態']\n",
    "    ax.plot(x2, y2, label = f'log轉換後\\n偏態 = {after_skew:.2f}',linestyle='--',color='y')\n",
    "    \n",
    "    \n",
    "    ax.legend()\n",
    "    # 顯示圖表\n",
    "    ax.set_xlabel(f'{feature}:對數轉換前後偏態圖')\n",
    "    plt.show()"
   ]
  },
  {
   "cell_type": "markdown",
   "id": "f470da96-5d90-4d02-b24d-58c9d29a3a80",
   "metadata": {},
   "source": [
    "### 將log和標準化好的df作為分析用的df"
   ]
  },
  {
   "cell_type": "code",
   "execution_count": null,
   "id": "30aeffad-2dc9-4e47-9ee6-37ed73625f59",
   "metadata": {},
   "outputs": [],
   "source": [
    "df = df_log_std "
   ]
  },
  {
   "cell_type": "markdown",
   "id": "06c337b9-c7b7-4764-8f54-397726734b72",
   "metadata": {},
   "source": [
    "---"
   ]
  },
  {
   "cell_type": "markdown",
   "id": "04e82ad3-58ba-4515-8a72-6a91e13f8616",
   "metadata": {},
   "source": [
    "# 皮爾森績差相關\n",
    "檢視連續變數x之間的相關性\n",
    "\n",
    "多元共線性水準，取0.8以上(無符合)"
   ]
  },
  {
   "cell_type": "code",
   "execution_count": null,
   "id": "77d4a383-7947-4e0c-ad49-1794eff3d546",
   "metadata": {},
   "outputs": [],
   "source": [
    "pearson_cor = df.loc[:, df.columns[9:-1]].corr()\n",
    "pearson_cor"
   ]
  },
  {
   "cell_type": "code",
   "execution_count": null,
   "id": "696702a4-4c1c-4376-8a5e-abc5f269ad82",
   "metadata": {},
   "outputs": [],
   "source": [
    "def pearsonExamine(row: pd.Series):\n",
    "    idx = row.name\n",
    "    col = pearson_cor.columns[np.where(row>0.8)]\n",
    "    col = col[col!=idx]\n",
    "    if col.shape[0]:\n",
    "        print(idx,col)\n",
    "    \n",
    "pearson_cor.apply(pearsonExamine, axis=1)"
   ]
  },
  {
   "cell_type": "markdown",
   "id": "b59847c0-96f6-4e69-8c09-710497f17b95",
   "metadata": {},
   "source": [
    "### 熱度圖"
   ]
  },
  {
   "cell_type": "code",
   "execution_count": null,
   "id": "72b8b6ea-50d1-4c34-9440-5b60c6393448",
   "metadata": {},
   "outputs": [],
   "source": [
    "sns.heatmap(pearson_cor,\n",
    "            xticklabels=pearson_cor.columns,\n",
    "            yticklabels=pearson_cor.columns)"
   ]
  },
  {
   "cell_type": "markdown",
   "id": "7029860d-d616-4758-888d-244e4bd38b11",
   "metadata": {
    "jp-MarkdownHeadingCollapsed": true,
    "tags": []
   },
   "source": [
    "### VIF"
   ]
  },
  {
   "cell_type": "code",
   "execution_count": null,
   "id": "755a21b8-a86d-4b52-b190-ccd7e38b74a0",
   "metadata": {
    "jupyter": {
     "outputs_hidden": true
    },
    "tags": []
   },
   "outputs": [],
   "source": [
    "from statsmodels.stats.outliers_influence import variance_inflation_factor\n",
    "\n",
    "\n",
    "x=df.drop(columns=['車禍發生'])\n",
    "y=df['車禍發生']\n",
    "\n",
    "vif=[variance_inflation_factor(x.values,x.columns.get_loc(i)) for i in x.columns]\n",
    "list(zip(list(range(1,23)),vif))"
   ]
  },
  {
   "cell_type": "markdown",
   "id": "93bced0e-1e23-4dec-a735-1dfd2197c714",
   "metadata": {},
   "source": [
    "---"
   ]
  },
  {
   "cell_type": "code",
   "execution_count": null,
   "id": "057e1029-fc0c-473d-94a6-1c63a567d086",
   "metadata": {},
   "outputs": [],
   "source": [
    "df2018to2021 = df[df['發生年度']!=2022] \n",
    "df2022 = df[df['發生年度']==2022] \n",
    "\n",
    "X_train, y_train = df2018to2021.iloc[:,:-1], df2018to2021.iloc[:,-1]\n",
    "X_test, y_test = df2022.iloc[:,:-1], df2022.iloc[:,-1]"
   ]
  },
  {
   "cell_type": "markdown",
   "id": "33e0947c-1de8-4267-85f9-a42e206385ff",
   "metadata": {
    "tags": []
   },
   "source": [
    "# 切出2022作為test set，2018-2021做為train set"
   ]
  },
  {
   "cell_type": "markdown",
   "id": "7d6ede1a-7e1f-41e3-b801-b121d75ccc09",
   "metadata": {},
   "source": [
    "---"
   ]
  },
  {
   "cell_type": "markdown",
   "id": "0fbbb155-8e22-485e-afcd-98b6a8fab976",
   "metadata": {
    "jp-MarkdownHeadingCollapsed": true,
    "tags": []
   },
   "source": [
    "# PCA"
   ]
  },
  {
   "cell_type": "markdown",
   "id": "055fcde1-1722-4939-8409-272b55ae6d91",
   "metadata": {},
   "source": [
    "時間特徵Pca"
   ]
  },
  {
   "cell_type": "code",
   "execution_count": null,
   "id": "f1f984e7-9a17-40fa-8ade-f54db27e0b4f",
   "metadata": {},
   "outputs": [],
   "source": [
    "pca = PCA()\n",
    "\n",
    "# 分數矩陣\n",
    "Timepca = pca.fit_transform(df.iloc[:,0:13]) \n",
    "print(Timepca.shape)"
   ]
  },
  {
   "cell_type": "code",
   "execution_count": null,
   "id": "d6929183-71d0-42ee-ab0c-6589e02a312b",
   "metadata": {},
   "outputs": [],
   "source": [
    "# 負荷矩陣\n",
    "# 前十個主成份與**15**個原始變數的關係\n",
    "pca.components_[:10] # [:10] can be removed.\n",
    "pca.components_[:10].shape # (10 components, 13 original variables)\n",
    "type(pca.components_) # numpy.ndarray\n",
    "print(pca.components_.shape )"
   ]
  },
  {
   "cell_type": "code",
   "execution_count": null,
   "id": "4aa18081-8d99-4860-bac0-abc9f59cc18e",
   "metadata": {},
   "outputs": [],
   "source": [
    "# 陡坡圖(scree plot 前段斜率絕對值大，但後段斜率降到很小！)決定取/看/用幾個主成份\n",
    "pca.explained_variance_ratio_ # 15個主成份解釋的變異百分比\n",
    "plt.plot(range(1, 14), pca.explained_variance_, '-o')\n",
    "plt.xlabel('# of components')\n",
    "plt.ylabel('Eigenvalues')\n",
    "plt.axhline(y=1,color='r',linestyle='--')\n",
    "plt.show()\n",
    "\n",
    "# list(range(1,59))\n",
    "# range(1,59).tolist() # AttributeError: 'range' object has no attribute 'tolist'"
   ]
  },
  {
   "cell_type": "code",
   "execution_count": null,
   "id": "b90a9965-5d70-490c-9d66-d5b667b4714c",
   "metadata": {},
   "outputs": [],
   "source": [
    "# type(teleXpca) # numpy.ndarray\n",
    "# 可能可以降到**4維空間**中進行後續分析\n",
    "Timepca = Timepca[:,:4]\n",
    "print(Timepca.shape)\n",
    "\n",
    "# PCA後可在頭兩個主成份空間中視覺化各樣本\n",
    "scatter_x = Timepca[:,0]\n",
    "scatter_y = Timepca[:,1]\n",
    "\n",
    "group = df.車禍發生.apply(lambda x : 1 if x>0 else 0)\n",
    "cdict = {1: 'red', 0: 'green'}\n",
    "\n",
    "fig, ax = plt.subplots()\n",
    "for g in np.unique(group):\n",
    "    ix = np.where(group == g)\n",
    "    ax.scatter(scatter_x[ix], scatter_y[ix], c = cdict[g], label = '發生車禍' if g else '無發生車禍', s = 1)\n",
    "ax.legend()\n",
    "plt.xlabel('First Principal Component')\n",
    "plt.ylabel('Second Principal Component')\n",
    "plt.show()"
   ]
  },
  {
   "cell_type": "markdown",
   "id": "9d6667c4-f30d-420d-b3ed-1fb7e217e4d2",
   "metadata": {},
   "source": [
    "天氣Pca"
   ]
  },
  {
   "cell_type": "code",
   "execution_count": null,
   "id": "0b7d81d3-5410-4a49-b258-5b0276076df1",
   "metadata": {},
   "outputs": [],
   "source": [
    "pca = PCA()\n",
    "\n",
    "# 分數矩陣\n",
    "Weatherpca = pca.fit_transform(df.iloc[:,15:21]) \n",
    "print(Weatherpca.shape)"
   ]
  },
  {
   "cell_type": "code",
   "execution_count": null,
   "id": "c46924cf-eef5-48cb-9879-da39a2b08ea8",
   "metadata": {},
   "outputs": [],
   "source": [
    "# 負荷矩陣\n",
    "# 前十個主成份與**15**個原始變數的關係\n",
    "pca.components_[:10] # [:10] can be removed.\n",
    "pca.components_[:10].shape # (10 components, 13 original variables)\n",
    "type(pca.components_) # numpy.ndarray\n",
    "print(pca.components_.shape)"
   ]
  },
  {
   "cell_type": "code",
   "execution_count": null,
   "id": "a2be9eab-105e-4e81-97f6-d3ccd87aa16c",
   "metadata": {},
   "outputs": [],
   "source": [
    "# 陡坡圖(scree plot 前段斜率絕對值大，但後段斜率降到很小！)決定取/看/用幾個主成份\n",
    "pca.explained_variance_ratio_ # 6個主成份解釋的變異百分比\n",
    "plt.plot(range(1, 7), pca.explained_variance_, '-o')\n",
    "plt.xlabel('# of components')\n",
    "plt.ylabel('Eigenvalues')\n",
    "plt.axhline(y=1,color='r',linestyle='--')\n",
    "plt.show()"
   ]
  },
  {
   "cell_type": "code",
   "execution_count": null,
   "id": "1c353ab7-7f2b-443f-bdfd-45f8eba6aa56",
   "metadata": {},
   "outputs": [],
   "source": [
    "# type(teleXpca) # numpy.ndarray\n",
    "# 可能可以降到**3維空間**中進行後續分析\n",
    "Weatherpca = Weatherpca[:,:3]\n",
    "print(Weatherpca.shape)\n",
    "\n",
    "# PCA後可在頭兩個主成份空間中視覺化各樣本\n",
    "scatter_x = Weatherpca[:,0]\n",
    "scatter_y = Weatherpca[:,1]\n",
    "\n",
    "group = df.車禍發生.apply(lambda x : 1 if x>0 else 0)\n",
    "cdict = {1: 'red', 0: 'green'}\n",
    "\n",
    "fig, ax = plt.subplots()\n",
    "for g in np.unique(group):\n",
    "    ix = np.where(group == g)\n",
    "    ax.scatter(scatter_x[ix], scatter_y[ix], c = cdict[g], label = '發生車禍' if g else '無發生車禍', s = 1)\n",
    "ax.legend()\n",
    "plt.xlabel('First Principal Component')\n",
    "plt.ylabel('Second Principal Component')\n",
    "plt.show()"
   ]
  },
  {
   "cell_type": "markdown",
   "id": "c7c12878-e854-40ed-be72-d6a5f77c9d6a",
   "metadata": {},
   "source": [
    "---"
   ]
  },
  {
   "cell_type": "markdown",
   "id": "c9125fa6-f303-41fc-a3b1-a33beb19ef7f",
   "metadata": {},
   "source": [
    "# 小結\n",
    "\n",
    "特徵工程處理流程:\n",
    "\n",
    "1.\n",
    "部分特徵有較嚴重的偏態，其中以下的特徵在做log轉換後可改善偏態。所以針對以下特徵做log轉換:\n",
    "'降水量(mm)_x','風速(m/s)_x', 'population_density', '流量加權'\n",
    "\n",
    "2.\n",
    "所有特徵標準化\n",
    "\n",
    "3.\n",
    "無發現顯著特徵間的共線性，不處理\n",
    "\n",
    "4.\n",
    "後續機器學習若需做特徵縮減，可針對時間日期相關特徵、及天氣相關特徵分別做主成分分析。\n",
    "其中，時間日期相關特徵的主成分分析，前四個主成分特徵值(解釋變異量)>1。天氣相關特徵的主成分分析，前三個主成分特徵值(解釋變異量)>1\n",
    "故後續需做特徵縮減的機器學習，可依上方標準來取主成分做訓練"
   ]
  },
  {
   "cell_type": "markdown",
   "id": "1fbb8c8f-60c2-4491-82aa-5f6f573bee07",
   "metadata": {},
   "source": [
    "### 建立各項流程的類別，方便後續pipeline引用"
   ]
  },
  {
   "cell_type": "code",
   "execution_count": null,
   "id": "54e07abe-a285-4606-9a61-dcf71a5b1bf9",
   "metadata": {},
   "outputs": [],
   "source": [
    "# log轉換\n",
    "class logData():\n",
    "    def __init__(self):\n",
    "        self.chose_to_log = [18,20,21,22]\n",
    "        # [ '降水量(mm)_x','風速(m/s)_x', 'population_density', '流量加權']\n",
    "        \n",
    "    def fit(self, X, y=None):\n",
    "        return self\n",
    "    \n",
    "    def transform(self, X):\n",
    "        df_log = X.copy()\n",
    "        df_log = np.array(df_log)\n",
    "        \n",
    "        feature_log = df_log[:,self.chose_to_log].copy()\n",
    "        feature_log[feature_log <= 0] = 1e-10\n",
    "                \n",
    "        # log轉換，合併回表中\n",
    "        feature_log = np.log1p(feature_log)\n",
    "        df_log[:,self.chose_to_log] = feature_log \n",
    "        \n",
    "        return df_log  "
   ]
  },
  {
   "cell_type": "code",
   "execution_count": null,
   "id": "a0fe00a7-c9d2-47f6-907a-1c31ff743f23",
   "metadata": {},
   "outputs": [],
   "source": [
    "# 定義轉換器，該轉換器將會對每個特徵分組執行 PCA\n",
    "class DateWeatherPCA():\n",
    "    def __init__(self, time_components=4, weather_components=3):\n",
    "        self.time_components = time_components\n",
    "        self.weather_components = weather_components\n",
    "        \n",
    "\n",
    "    def fit(self, X, y=None):\n",
    "        self.pca_time = PCA(n_components=self.time_components).fit(X[:,[i for i in range(13)]])\n",
    "        self.pca_weather = PCA(n_components=self.weather_components).fit(X[:,[j for j in range(15,21)]])\n",
    "        return self\n",
    "\n",
    "    def transform(self, X):        \n",
    "        # 將特徵分組\n",
    "        # 0-12是時間，13、14是經緯度，15-20是天氣、21人口密度、22車流量\n",
    "        time = self.pca_time.transform(X[:,[i for i in range(13)]])\n",
    "        coord = X[:,[ 14, 15]]\n",
    "        weather = self.pca_weather.transform(X[:,[j for j in range(15,21)]])\n",
    "        density = X[:,[21]]\n",
    "        stream = X[:,[22]]\n",
    "        return np.concatenate([time, coord, weather, density, stream], axis=1)"
   ]
  },
  {
   "cell_type": "markdown",
   "id": "968964bd-c811-4512-8bcf-9fabad40d303",
   "metadata": {},
   "source": [
    "---"
   ]
  },
  {
   "cell_type": "markdown",
   "id": "beb6c0a9-707b-486f-bf6e-20598dceabf8",
   "metadata": {},
   "source": [
    "機器學習模型選擇\n",
    "\n",
    "-logis regression\n",
    "-knn\n",
    "-random forest\n",
    "-adaboost\n",
    "-xgboost"
   ]
  },
  {
   "cell_type": "markdown",
   "id": "1ae792f6-9acd-4a11-b0a5-39d5ffe199c5",
   "metadata": {},
   "source": [
    "![jupyter](./參數調校.png)\n",
    "\n",
    "---"
   ]
  },
  {
   "cell_type": "markdown",
   "id": "db182a0c-b8f6-4cce-af0e-b1988414c44f",
   "metadata": {
    "tags": []
   },
   "source": [
    "# logis regression"
   ]
  },
  {
   "cell_type": "code",
   "execution_count": null,
   "id": "a09cc0d0-c1d4-42f3-a45c-7a61fe1ee66b",
   "metadata": {},
   "outputs": [],
   "source": [
    "df_pos = pd.read_csv(\"pos_data(12-26已刪除離群值).csv\", encoding='utf-8-sig')\n",
    "df_neg = pd.read_csv(\"neg_data(12-26已刪除離群值).csv\", encoding='utf-8-sig')\n",
    "\n",
    "df_neg = df_neg.iloc[:df_pos.shape[0],:]\n",
    "\n",
    "df = pd.concat([df_pos, df_neg], axis=0)\n",
    "df2018to2021 = df[df['發生年度']!=2022] \n",
    "df2022 = df[df['發生年度']==2022] \n",
    "\n",
    "X_train, y_train = df2018to2021.iloc[:,:-1], df2018to2021.iloc[:,-1]\n",
    "X_test, y_test = df2022.iloc[:,:-1], df2022.iloc[:,-1]"
   ]
  },
  {
   "cell_type": "code",
   "execution_count": null,
   "id": "d576ae77-0e8c-4e4d-b1df-d3a0d9a3aa3a",
   "metadata": {},
   "outputs": [],
   "source": [
    "pipe_logis = Pipeline([('log',logData()),\n",
    "                       ('sc', StandardScaler()),\n",
    "                       ('logis', LogisticRegression(n_jobs=6,))\n",
    "                      ])"
   ]
  },
  {
   "cell_type": "code",
   "execution_count": null,
   "id": "43f4f0c1-6eeb-4660-8ee4-bd877fe93182",
   "metadata": {},
   "outputs": [],
   "source": [
    "# 待估參數權重的字典\n",
    "param_grid = {\n",
    "    'logis__C':np.logspace(-4, 4, 30),\n",
    "    'logis__penalty':['None','l1', 'l2','elasticnet'],\n",
    "}"
   ]
  },
  {
   "cell_type": "code",
   "execution_count": null,
   "id": "358cdffa-b01e-4cde-869e-e0307c2fa672",
   "metadata": {
    "jupyter": {
     "outputs_hidden": true
    },
    "tags": []
   },
   "outputs": [],
   "source": [
    "# 建立GridSearchCV空模\n",
    "logis_grid = GridSearchCV(estimator=pipe_logis, \n",
    "                        param_grid=param_grid, \n",
    "                        cv= 5, \n",
    "                        scoring='accuracy', \n",
    "                        verbose=10)\n",
    "\n",
    "\n",
    "logis_grid.fit(X_train, y_train)"
   ]
  },
  {
   "cell_type": "code",
   "execution_count": null,
   "id": "fe1b0909-1d04-4637-8125-a5458de11dff",
   "metadata": {},
   "outputs": [],
   "source": [
    "# 結果都藏在實模grid的後面了！\n",
    "dir(logis_grid)\n",
    "\n",
    "print('最佳分數: ', logis_grid.best_score_)  \n",
    "print('最佳參數：', logis_grid.best_params_)\n",
    "print('最佳模型：', logis_grid.best_estimator_)  \n",
    "\n",
    "logis_grid_table = pd.DataFrame(logis_grid.cv_results_)\n",
    "logis_grid_table.to_csv('GridTable_logis.csv')\n",
    "logis_grid_table"
   ]
  },
  {
   "cell_type": "code",
   "execution_count": null,
   "id": "336032bc-87f0-4baf-a948-daf2251f19fe",
   "metadata": {},
   "outputs": [],
   "source": [
    "y_pred = logis_grid.best_estimator_.predict(X_test)\n",
    "accuracy = accuracy_score(y_test, y_pred)\n",
    "print('正確率: ',accuracy)\n",
    "print('混淆矩陣:\\n',confusion_matrix(y_test, y_pred))"
   ]
  },
  {
   "cell_type": "code",
   "execution_count": null,
   "id": "68edba84-0e30-4a31-98d0-b5aca774d3a2",
   "metadata": {},
   "outputs": [],
   "source": [
    "target_names = ['車禍未發生', '車禍發生']\n",
    "print(classification_report(y_test, y_pred, target_names=target_names))"
   ]
  },
  {
   "cell_type": "code",
   "execution_count": null,
   "id": "aa2f3c74-8ed8-4918-afef-bf3f7b0c9d4f",
   "metadata": {},
   "outputs": [],
   "source": [
    "modelFileName = \"./models/model_best_logis.pkl\"\n",
    "\n",
    "# 儲存模型到文件\n",
    "with open(modelFileName, \"wb\") as f:\n",
    "    pickle.dump(logis_grid.best_estimator_, f)"
   ]
  },
  {
   "cell_type": "code",
   "execution_count": null,
   "id": "09f12083-7b5f-4818-9bed-4366bb7303fc",
   "metadata": {},
   "outputs": [],
   "source": []
  },
  {
   "cell_type": "code",
   "execution_count": null,
   "id": "a8ea5a48-ca04-4da8-8297-c77dae16b383",
   "metadata": {},
   "outputs": [],
   "source": []
  },
  {
   "cell_type": "code",
   "execution_count": null,
   "id": "dadd2a1c-56b7-4f11-a0fd-76522459f205",
   "metadata": {},
   "outputs": [],
   "source": []
  },
  {
   "cell_type": "code",
   "execution_count": null,
   "id": "8fd869f6-96c9-44b0-a0c6-4d5490b76528",
   "metadata": {},
   "outputs": [],
   "source": []
  },
  {
   "cell_type": "code",
   "execution_count": null,
   "id": "0e29cdd4-1f96-4be8-bca0-1fc76ae4c66d",
   "metadata": {},
   "outputs": [],
   "source": []
  },
  {
   "cell_type": "code",
   "execution_count": null,
   "id": "ac4288e2-6190-4166-b2b0-037035acabdf",
   "metadata": {},
   "outputs": [],
   "source": []
  },
  {
   "cell_type": "code",
   "execution_count": null,
   "id": "750319da-60ff-4206-bd46-e0182d5b8b12",
   "metadata": {},
   "outputs": [],
   "source": []
  },
  {
   "cell_type": "markdown",
   "id": "06ac86b4-4205-4165-9fdf-901b9716b45f",
   "metadata": {},
   "source": [
    "---"
   ]
  },
  {
   "cell_type": "markdown",
   "id": "1dc5c546-aec3-4af8-81c5-ac8c4c1377ca",
   "metadata": {
    "tags": []
   },
   "source": [
    "# KNN"
   ]
  },
  {
   "cell_type": "code",
   "execution_count": null,
   "id": "1c9466d6-8183-483d-99a4-6f63ac3babbc",
   "metadata": {},
   "outputs": [],
   "source": [
    "df_pos = pd.read_csv(\"pos_data(12-26已刪除離群值).csv\", encoding='utf-8-sig')\n",
    "df_neg = pd.read_csv(\"neg_data(12-26已刪除離群值).csv\", encoding='utf-8-sig')\n",
    "\n",
    "df_neg = df_neg.iloc[:df_pos.shape[0],:]\n",
    "\n",
    "df = pd.concat([df_pos, df_neg], axis=0)\n",
    "df2018to2021 = df[df['發生年度']!=2022] \n",
    "df2022 = df[df['發生年度']==2022] \n",
    "\n",
    "X_train, y_train = df2018to2021.iloc[:,:-1], df2018to2021.iloc[:,-1]\n",
    "X_test, y_test = df2022.iloc[:,:-1], df2022.iloc[:,-1]"
   ]
  },
  {
   "cell_type": "markdown",
   "id": "787e1b50-8f0d-46c1-a436-9efbb191aa35",
   "metadata": {},
   "source": [
    "### 循序特徵選擇演算法 SBS (Sequential feature selection algorithms)"
   ]
  },
  {
   "cell_type": "code",
   "execution_count": null,
   "id": "79da79a1-4072-43c9-be31-4eb152ce2cdc",
   "metadata": {},
   "outputs": [],
   "source": [
    "class SBS():\n",
    "    def __init__(self, estimator, k_features, scoring=accuracy_score,\n",
    "                 test_size=0.25, random_state=1):\n",
    "        self.scoring = scoring\n",
    "        self.estimator = clone(estimator)\n",
    "        self.k_features = k_features\n",
    "        self.test_size = test_size\n",
    "        self.random_state = random_state\n",
    "\n",
    "    def fit(self, X, y):\n",
    "        \n",
    "        X_train, X_test, y_train, y_test = \\\n",
    "            train_test_split(X, y, test_size=self.test_size,\n",
    "                             random_state=self.random_state)\n",
    "\n",
    "        dim = X_train.shape[1]\n",
    "        self.indices_ = tuple(range(dim))\n",
    "        self.subsets_ = [self.indices_]\n",
    "        score = self._calc_score(X_train, y_train, \n",
    "                                 X_test, y_test, self.indices_)\n",
    "        self.scores_ = [score]\n",
    "\n",
    "        while dim > self.k_features:\n",
    "            print('dim: ',dim)\n",
    "            scores = []\n",
    "            subsets = []\n",
    "\n",
    "            for p in combinations(self.indices_, r=dim - 1):\n",
    "                score = self._calc_score(X_train, y_train, \n",
    "                                         X_test, y_test, p)\n",
    "                scores.append(score)\n",
    "                subsets.append(p)\n",
    "\n",
    "            best = np.argmax(scores)\n",
    "            self.indices_ = subsets[best]\n",
    "            self.subsets_.append(self.indices_)\n",
    "            dim -= 1\n",
    "\n",
    "            self.scores_.append(scores[best])\n",
    "        self.k_score_ = self.scores_[-1]\n",
    "\n",
    "        return self\n",
    "\n",
    "    def transform(self, X):\n",
    "        return X[:, self.indices_]\n",
    "\n",
    "    def _calc_score(self, X_train, y_train, X_test, y_test, indices):\n",
    "        self.estimator.fit(X_train[:, indices], y_train)\n",
    "        y_pred = self.estimator.predict(X_test[:, indices])\n",
    "        score = self.scoring(y_test, y_pred)\n",
    "        return score"
   ]
  },
  {
   "cell_type": "markdown",
   "id": "17766430-482d-49c4-9239-58f71f33e9fc",
   "metadata": {},
   "source": [
    "### 開始fit SBS KNN"
   ]
  },
  {
   "cell_type": "code",
   "execution_count": null,
   "id": "fe772651-f4fc-4c89-9f0e-43582f763801",
   "metadata": {},
   "outputs": [],
   "source": [
    "X = X_train.copy()\n",
    "y = y_train.copy()\n",
    "\n",
    "X = logData().fit(X).transform(X)\n",
    "X = StandardScaler().fit_transform(X)\n",
    "X = DateWeatherPCA().fit(X).transform(X)"
   ]
  },
  {
   "cell_type": "code",
   "execution_count": null,
   "id": "e565845c-7539-497b-b0c9-a088e704b854",
   "metadata": {},
   "outputs": [],
   "source": [
    "knn = KNeighborsClassifier(n_neighbors=3, n_jobs=6)\n",
    "\n",
    "# selecting features\n",
    "sbs = SBS(knn, k_features=1)\n",
    "sbs.fit(X, y)\n",
    "\n",
    "# plotting performance of feature subsets\n",
    "k_feat = [len(k) for k in sbs.subsets_]"
   ]
  },
  {
   "cell_type": "code",
   "execution_count": null,
   "id": "f28a5b41-ec14-4bb6-99e8-6547da9f07fc",
   "metadata": {},
   "outputs": [],
   "source": [
    "sbs.subsets_"
   ]
  },
  {
   "cell_type": "code",
   "execution_count": null,
   "id": "802ce147-d976-4b5c-b0ac-91ecd6b07ec3",
   "metadata": {},
   "outputs": [],
   "source": [
    "variables = ['時間主成分1','時間主成分2','時間主成分3','時間主成分4','經度','緯度','天氣主成分1','天氣主成分2','天氣主成分3','人口密度','車流量']\n",
    "preScore = None\n",
    "preSet = None\n",
    "for i in range(len(sbs.scores_)):\n",
    "    score = sbs.scores_[i]\n",
    "    thisSet = set(sbs.subsets_[i])\n",
    "    \n",
    "    improve = f\"正確率進步: {score-preScore}\" if preScore else \"無前一輪\"\n",
    "    deleted = f'本輪刪除({list(preSet - thisSet)[0]}){variables[list(preSet - thisSet)[0]]}' if preSet else \"未刪除變數\"\n",
    "    \n",
    "    print(f'第{i+1}輪訓練--本輪正確率:{score}，{improve}，{deleted}',f'，訓練子集合:{[variables[i] for i in thisSet]}')\n",
    "    preScore = score\n",
    "    preSet = thisSet"
   ]
  },
  {
   "cell_type": "code",
   "execution_count": null,
   "id": "d6f96bda-053b-44d5-a7fa-5a4dbe6598a6",
   "metadata": {},
   "outputs": [],
   "source": [
    "plt.plot(k_feat, sbs.scores_, marker='o')\n",
    "plt.ylim([0.5, 1.02])\n",
    "plt.ylabel('Accuracy')\n",
    "plt.xlabel('Number of features')\n",
    "plt.grid()\n",
    "\n",
    "plt.tight_layout()\n",
    "# plt.savefig('images/04_08.png', dpi=300)\n",
    "plt.show()\n"
   ]
  },
  {
   "cell_type": "markdown",
   "id": "1352104a-9298-4a86-9ef5-e260a32023f8",
   "metadata": {},
   "source": [
    "### 保留'人口密度', '車流量', '經度'進入gridsearchCV訓練"
   ]
  },
  {
   "cell_type": "code",
   "execution_count": null,
   "id": "dffcd039-01a1-43df-aa38-d9e845be57ef",
   "metadata": {},
   "outputs": [],
   "source": [
    "# 建立knn特徵選擇類別\n",
    "class KnnFeatureSelect():\n",
    "    def __init__(self):\n",
    "        self.df = None\n",
    "        \n",
    "    def fit(self, X, y=None):\n",
    "        self.select_list = [4,9,10]\n",
    "        return self\n",
    "    \n",
    "    def transform(self, X):\n",
    "        self.df = X[:,self.select_list]\n",
    "        return self.df"
   ]
  },
  {
   "cell_type": "code",
   "execution_count": null,
   "id": "4e5036d9-cd47-42bc-9afa-51f7b4f183df",
   "metadata": {},
   "outputs": [],
   "source": [
    "# 改寫pipeline\n",
    "pipe_knn = Pipeline([('log',logData()),\n",
    "                     ('sc', StandardScaler()),\n",
    "                     ('pca', DateWeatherPCA()),\n",
    "                     ('knnSelect', KnnFeatureSelect()),\n",
    "                     ('knn', KNeighborsClassifier(n_jobs=6))\n",
    "                      ])"
   ]
  },
  {
   "cell_type": "code",
   "execution_count": null,
   "id": "0e3a753e-c5ff-43a8-876f-87e876fc678e",
   "metadata": {},
   "outputs": [],
   "source": [
    "# 待估參數權重的字典\n",
    "param_grid = {'knn__n_neighbors': np.arange(start=3,stop=26,step=3), \n",
    "              'knn__weights': ['uniform', 'distance'],\n",
    "              'knn__algorithm':['auto'] \n",
    "             } "
   ]
  },
  {
   "cell_type": "code",
   "execution_count": null,
   "id": "77d84182-38cc-4362-89b0-275d39a996e3",
   "metadata": {
    "jupyter": {
     "outputs_hidden": true
    },
    "tags": []
   },
   "outputs": [],
   "source": [
    "# 建立GridSearchCV空模\n",
    "knn_grid = GridSearchCV(estimator=pipe_knn, \n",
    "                        param_grid=param_grid, \n",
    "                        cv= 5, \n",
    "                        scoring='accuracy', \n",
    "                        verbose=10)\n",
    "\n",
    "\n",
    "knn_grid.fit(X_train, y_train)"
   ]
  },
  {
   "cell_type": "code",
   "execution_count": null,
   "id": "92e1f4a1-44d2-4648-8061-59e13426f45c",
   "metadata": {},
   "outputs": [],
   "source": [
    "# 結果都藏在實模grid的後面了！\n",
    "dir(knn_grid)\n",
    "\n",
    "print('最佳分數: ', knn_grid.best_score_)  \n",
    "print('最佳參數：', knn_grid.best_params_)\n",
    "print('最佳模型：', knn_grid.best_estimator_)  \n",
    "\n",
    "knn_grid_table = pd.DataFrame(knn_grid.cv_results_)\n",
    "knn_grid_table.to_csv('GridTable_knn.csv')\n",
    "knn_grid_table"
   ]
  },
  {
   "cell_type": "code",
   "execution_count": null,
   "id": "ece750b8-0777-4569-8b3e-2fa3206f3601",
   "metadata": {},
   "outputs": [],
   "source": [
    "y_pred = knn_grid.best_estimator_.predict(X_test)\n",
    "accuracy = accuracy_score(y_test, y_pred)\n",
    "print('正確率: ',accuracy)\n",
    "print('混淆矩陣:\\n',confusion_matrix(y_test, y_pred))"
   ]
  },
  {
   "cell_type": "code",
   "execution_count": null,
   "id": "b23b0324-d732-4927-a6c4-00da9b9a4c31",
   "metadata": {},
   "outputs": [],
   "source": [
    "target_names = ['車禍未發生', '車禍發生']\n",
    "print(classification_report(y_test, y_pred, target_names=target_names))"
   ]
  },
  {
   "cell_type": "code",
   "execution_count": null,
   "id": "b2e17c6b-f569-4ce2-ba10-a8793d538f27",
   "metadata": {},
   "outputs": [],
   "source": [
    "modelFileName = \"./models/model_best_knn.pkl\"\n",
    "\n",
    "# 儲存模型到文件\n",
    "with open(modelFileName, \"wb\") as f:\n",
    "    pickle.dump(knn_grid.best_estimator_, f)"
   ]
  },
  {
   "cell_type": "markdown",
   "id": "3d38a3a7-e54c-4dfb-83cd-917515c624bf",
   "metadata": {},
   "source": [
    "---"
   ]
  },
  {
   "cell_type": "markdown",
   "id": "0a8a3487-182e-4003-bab6-6481831363cf",
   "metadata": {},
   "source": [
    "# RFC"
   ]
  },
  {
   "cell_type": "code",
   "execution_count": null,
   "id": "cd09f960-93dd-4445-a20e-921d29dec1e5",
   "metadata": {},
   "outputs": [],
   "source": [
    "df_pos = pd.read_csv(\"pos_data(12-26已刪除離群值).csv\", encoding='utf-8-sig')\n",
    "df_neg = pd.read_csv(\"neg_data(12-26已刪除離群值).csv\", encoding='utf-8-sig')\n",
    "\n",
    "df_neg = df_neg.iloc[:df_pos.shape[0],:]\n",
    "\n",
    "df = pd.concat([df_pos, df_neg], axis=0)\n",
    "df2018to2021 = df[df['發生年度']!=2022] \n",
    "df2022 = df[df['發生年度']==2022] \n",
    "\n",
    "X_train, y_train = df2018to2021.iloc[:,:-1], df2018to2021.iloc[:,-1]\n",
    "X_test, y_test = df2022.iloc[:,:-1], df2022.iloc[:,-1]"
   ]
  },
  {
   "cell_type": "code",
   "execution_count": null,
   "id": "b92058d6-4571-48c8-85ff-33f77007e3d4",
   "metadata": {},
   "outputs": [],
   "source": [
    "pipe_rfc = Pipeline([('log',logData()),\n",
    "                     ('sc', StandardScaler()),\n",
    "                     ('rfc', RandomForestClassifier(random_state=42,n_jobs=5))\n",
    "                      ])"
   ]
  },
  {
   "cell_type": "code",
   "execution_count": null,
   "id": "d9a09a13-1852-4a23-b671-1c286f5fb15f",
   "metadata": {},
   "outputs": [],
   "source": [
    "# 待估參數權重的字典\n",
    "param_grid = {'rfc__n_estimators': [30, 100, 500],\n",
    "              'rfc__max_features': ['auto', 'sqrt', 'log2'],\n",
    "              'rfc__max_depth' : [None,10,20],\n",
    "              'rfc__criterion' :['gini', 'entropy']\n",
    "}"
   ]
  },
  {
   "cell_type": "code",
   "execution_count": null,
   "id": "4b71f3c0-7401-4023-8140-48868c64304e",
   "metadata": {
    "jupyter": {
     "outputs_hidden": true
    },
    "tags": []
   },
   "outputs": [],
   "source": [
    "# 建立GridSearchCV空模\n",
    "rfc_grid = GridSearchCV(estimator=pipe_rfc, \n",
    "                        param_grid=param_grid, \n",
    "                        cv= 5, \n",
    "                        scoring='accuracy', \n",
    "                        verbose=10,\n",
    "                        )\n",
    "\n",
    "\n",
    "rfc_grid.fit(X_train, y_train)"
   ]
  },
  {
   "cell_type": "code",
   "execution_count": null,
   "id": "402697c9-845d-48ee-9fdd-4aa0abe6777a",
   "metadata": {},
   "outputs": [],
   "source": [
    "# 結果都藏在實模grid的後面了！\n",
    "dir(rfc_grid)\n",
    "\n",
    "print('最佳分數: ', rfc_grid.best_score_)  \n",
    "print('最佳參數：', rfc_grid.best_params_)\n",
    "print('最佳模型：', rfc_grid.best_estimator_)  \n",
    "\n",
    "rfc_grid_table = pd.DataFrame(rfc_grid.cv_results_)\n",
    "rfc_grid_table.to_csv('GridTable_rfc.csv')\n",
    "rfc_grid_table"
   ]
  },
  {
   "cell_type": "code",
   "execution_count": null,
   "id": "49b16492-8756-470f-a78a-f0350802e03c",
   "metadata": {},
   "outputs": [],
   "source": [
    "y_pred = rfc_grid.best_estimator_.predict(X_test)\n",
    "accuracy = accuracy_score(y_test, y_pred)\n",
    "print('正確率: ',accuracy)\n",
    "print('混淆矩陣:\\n',confusion_matrix(y_test, y_pred))"
   ]
  },
  {
   "cell_type": "code",
   "execution_count": null,
   "id": "de2df7cb-e2ea-4226-93b2-7fc628a6c19f",
   "metadata": {},
   "outputs": [],
   "source": [
    "target_names = ['車禍未發生', '車禍發生']\n",
    "print(classification_report(y_test, y_pred, target_names=target_names))"
   ]
  },
  {
   "cell_type": "code",
   "execution_count": null,
   "id": "20f806f1-1360-48e8-9787-6fa30b77ab96",
   "metadata": {},
   "outputs": [],
   "source": [
    "modelFileName = \"./models/model_best_rfc.pkl\"\n",
    "\n",
    "# 儲存模型到文件\n",
    "with open(modelFileName, \"wb\") as f:\n",
    "    pickle.dump(rfc_grid.best_estimator_, f)"
   ]
  },
  {
   "cell_type": "markdown",
   "id": "8b46c443-6a7e-476c-84c4-8a58ba5dc300",
   "metadata": {},
   "source": [
    "---"
   ]
  },
  {
   "cell_type": "markdown",
   "id": "2b959223-78bd-4efd-9ecb-e2c909c0cd76",
   "metadata": {},
   "source": [
    "# XGBoost"
   ]
  },
  {
   "cell_type": "code",
   "execution_count": null,
   "id": "aff13065-6747-467d-b48c-c776f3aa0e6d",
   "metadata": {},
   "outputs": [],
   "source": [
    "df_pos = pd.read_csv(\"pos_data(12-26已刪除離群值).csv\", encoding='utf-8-sig')\n",
    "df_neg = pd.read_csv(\"neg_data(12-26已刪除離群值).csv\", encoding='utf-8-sig')\n",
    "\n",
    "df_neg = df_neg.iloc[:df_pos.shape[0],:]\n",
    "\n",
    "df = pd.concat([df_pos, df_neg], axis=0)\n",
    "df2018to2021 = df[df['發生年度']!=2022] \n",
    "df2022 = df[df['發生年度']==2022] \n",
    "\n",
    "X_train, y_train = df2018to2021.iloc[:,:-1], df2018to2021.iloc[:,-1]\n",
    "X_test, y_test = df2022.iloc[:,:-1], df2022.iloc[:,-1]"
   ]
  },
  {
   "cell_type": "code",
   "execution_count": null,
   "id": "0acb11e0-dab2-4dce-a8e3-cd46e9dbba26",
   "metadata": {},
   "outputs": [],
   "source": [
    "pipe_xgb = Pipeline([('log',logData()),\n",
    "                     ('sc', StandardScaler()),\n",
    "                     ('xgb', xgb.XGBClassifier(seed=42, tree_method='gpu_hist', gpu_id=0))              \n",
    "                 ])"
   ]
  },
  {
   "cell_type": "code",
   "execution_count": null,
   "id": "23c42095-550e-42a2-93a1-816c9bcd5ff3",
   "metadata": {},
   "outputs": [],
   "source": [
    "# 待估參數權重的字典\n",
    "param_grid = {\n",
    "    'xgb__eta':['0.01','0.2','0.3'],\n",
    "    'xgb__min_child_weight':[1,3],\n",
    "    'xgb__max_depth': [5, 9, 15],\n",
    "    \"xgb__gamma\":[0, 0.25, 0.5, 0.75,1],\n",
    "    'xgb__n_estimators': [100, 500, 1000],\n",
    "}"
   ]
  },
  {
   "cell_type": "code",
   "execution_count": null,
   "id": "a7bd0bfe-fdae-4334-a7ec-7fe10a421c5e",
   "metadata": {
    "jupyter": {
     "outputs_hidden": true
    },
    "tags": []
   },
   "outputs": [],
   "source": [
    "# 建立xgb的GridSearchCV空模\n",
    "xgb_grid = GridSearchCV(estimator=pipe_xgb , \n",
    "                        param_grid=param_grid, \n",
    "                        cv= 5, \n",
    "                        scoring='accuracy', \n",
    "                        verbose=10)\n",
    "\n",
    "# xgb_grid變實模\n",
    "xgb_grid.fit(X_train, y_train)"
   ]
  },
  {
   "cell_type": "code",
   "execution_count": null,
   "id": "725cc64f-0e6b-4f17-93e2-4432668cad14",
   "metadata": {},
   "outputs": [],
   "source": [
    "# 結果都藏在實模grid的後面了！\n",
    "dir(xgb_grid)\n",
    "\n",
    "print('最佳分數: ', xgb_grid.best_score_)  \n",
    "print('最佳參數：', xgb_grid.best_params_)\n",
    "print('最佳模型：', xgb_grid.best_estimator_)  \n",
    "\n",
    "xgb_grid_table = pd.DataFrame(xgb_grid.cv_results_)\n",
    "xgb_grid_table.to_csv('GridTable_xgb.csv')\n",
    "xgb_grid_table"
   ]
  },
  {
   "cell_type": "code",
   "execution_count": null,
   "id": "fb11e6b5-7fe6-4f91-b8d4-6a9705ef0eca",
   "metadata": {},
   "outputs": [],
   "source": [
    "y_pred = xgb_grid.best_estimator_.predict(X_test)\n",
    "accuracy = accuracy_score(y_test, y_pred)\n",
    "confmat = confusion_matrix(y_test, y_pred)\n",
    "print('正確率: ',accuracy)\n",
    "\n",
    "fig, ax = plt.subplots()\n",
    "ax.matshow(confmat, cmap=plt.cm.Blues, alpha=0.3)\n",
    "for i in range(confmat.shape[0]):\n",
    "    for j in range(confmat.shape[1]):\n",
    "        ax.text(x=j, y=i,\n",
    "                s=confmat[i, j],\n",
    "                va='center', ha='center')\n",
    "plt.xlabel('predicted label')\n",
    "plt.ylabel('true label')\n",
    "plt.show()\n",
    "print('混淆矩陣:\\n',confusion_matrix(y_test, y_pred))"
   ]
  },
  {
   "cell_type": "code",
   "execution_count": null,
   "id": "5ab29cf9-9648-46bb-8783-71aeb5f190c5",
   "metadata": {},
   "outputs": [],
   "source": [
    "target_names = ['車禍未發生', '車禍發生']\n",
    "report = classification_report(y_test, y_pred, target_names=target_names)\n",
    "\n",
    "print(report)\n",
    "\n",
    "\n",
    "from yellowbrick.classifier import ClassificationReport\n",
    "\n",
    "model = xgb_grid.best_estimator_\n",
    "visualizer = ClassificationReport(model, classes=target_names, support=True)\n",
    "\n",
    "visualizer.fit(X_train, y_train)  \n",
    "visualizer.score(X_test, y_test)  \n",
    "visualizer.show()   "
   ]
  },
  {
   "cell_type": "code",
   "execution_count": null,
   "id": "232d59bc-88f3-4532-8de3-20e88193c062",
   "metadata": {},
   "outputs": [],
   "source": [
    "modelFileName = \"./models/model_best_xgb.pkl\"\n",
    "\n",
    "# 儲存模型到文件\n",
    "with open(modelFileName, \"wb\") as f:\n",
    "    pickle.dump(xgb_grid.best_estimator_, f)"
   ]
  },
  {
   "cell_type": "code",
   "execution_count": null,
   "id": "337d8436-e4d9-4f79-ae5e-494ba5e6cf0d",
   "metadata": {},
   "outputs": [],
   "source": [
    "pipe_lr = xgb_grid.best_estimator_\n",
    "\n",
    "train_sizes, train_scores, test_scores =\\\n",
    "                learning_curve(estimator=pipe_lr,\n",
    "                               X=X_train,\n",
    "                               y=y_train,\n",
    "                               train_sizes=np.linspace(0.1, 1.0, 10),\n",
    "                               cv=10,\n",
    "                               n_jobs=6)\n",
    "\n",
    "train_mean = np.mean(train_scores, axis=1)\n",
    "train_std = np.std(train_scores, axis=1)\n",
    "test_mean = np.mean(test_scores, axis=1)\n",
    "test_std = np.std(test_scores, axis=1)\n",
    "\n",
    "plt.plot(train_sizes, train_mean,\n",
    "         color='blue', marker='o',\n",
    "         markersize=5, label='Training accuracy')\n",
    "\n",
    "plt.fill_between(train_sizes,\n",
    "                 train_mean + train_std,\n",
    "                 train_mean - train_std,\n",
    "                 alpha=0.15, color='blue')\n",
    "\n",
    "plt.plot(train_sizes, test_mean,\n",
    "         color='green', linestyle='--',\n",
    "         marker='s', markersize=5,\n",
    "         label='Validation accuracy')\n",
    "\n",
    "plt.fill_between(train_sizes,\n",
    "                 test_mean + test_std,\n",
    "                 test_mean - test_std,\n",
    "                 alpha=0.15, color='green')\n",
    "\n",
    "plt.grid()\n",
    "plt.xlabel('Number of training examples')\n",
    "plt.ylabel('Accuracy')\n",
    "plt.legend(loc='lower right')\n",
    "plt.ylim([0.5, 1.03])\n",
    "plt.tight_layout()\n",
    "# plt.savefig('images/06_05.png', dpi=300)\n",
    "plt.show()"
   ]
  },
  {
   "cell_type": "markdown",
   "id": "504e5631-1f37-487f-a495-a08b1e77fe07",
   "metadata": {},
   "source": [
    "---"
   ]
  },
  {
   "cell_type": "markdown",
   "id": "db6302b8-cc67-4688-9405-0bbdc901df26",
   "metadata": {},
   "source": [
    "# 比較不同類型的模型\n",
    "diff()函數對不同類模型物件modelDifferences進行推論統計\n",
    "\n",
    "summary()函數回傳跨模型差異統計的檢定結果"
   ]
  },
  {
   "cell_type": "code",
   "execution_count": null,
   "id": "e9bd6a0f-109a-4418-b9ba-6ee32472d3a3",
   "metadata": {},
   "outputs": [],
   "source": [
    "# 載入模型\n",
    "algorithms = ['logis','knn','rfc','xgb']\n",
    "\n",
    "models = []\n",
    "\n",
    "for algorithm in algorithms:\n",
    "    modelFileName = f\"./models/model_best_{algorithm}.pkl\"\n",
    "    with open(modelFileName, \"rb\") as f:\n",
    "        model = pickle.load(f)\n",
    "    models.append((algorithm, model)) # tuple ('簡記名', 建模類別函數全名)"
   ]
  },
  {
   "cell_type": "code",
   "execution_count": null,
   "id": "19364483-c2d9-448d-93d0-16996e9f9692",
   "metadata": {},
   "outputs": [],
   "source": [
    "# 載入數據\n",
    "df_pos = pd.read_csv(\"pos_data(12-26已刪除離群值).csv\", encoding='utf-8-sig')\n",
    "df_neg = pd.read_csv(\"neg_data(12-26已刪除離群值).csv\", encoding='utf-8-sig')\n",
    "\n",
    "df_neg = df_neg.iloc[:df_pos.shape[0],:]\n",
    "\n",
    "df = pd.concat([df_pos, df_neg], axis=0)\n",
    "df2018to2021 = df[df['發生年度']!=2022] \n",
    "df2022 = df[df['發生年度']==2022] \n",
    "\n",
    "X_train, y_train = df2018to2021.iloc[:,:-1], df2018to2021.iloc[:,-1]\n",
    "X_test, y_test = df2022.iloc[:,:-1], df2022.iloc[:,-1]"
   ]
  },
  {
   "cell_type": "code",
   "execution_count": null,
   "id": "7b5aed6d-7cbe-4f26-8651-543b0f969d9e",
   "metadata": {},
   "outputs": [],
   "source": [
    "#### Reference: How To Compare Machine Learning Algorithms in Python with scikit-learn (https://machinelearningmastery.com/compare-machine-learning-algorithms-python-scikit-learn/)\n",
    "X, Y = X_test, y_test\n",
    "\n",
    "# prepare configuration for cross validation test harness\n",
    "seed = 7\n",
    "\n",
    "# evaluate each model in turn\n",
    "results = [] # 逐次添加各模型交叉驗證績效評量結果\n",
    "names = []\n",
    "scoring = 'balanced_accuracy'\n",
    "for name, model in models:\n",
    "    kfold = KFold(n_splits=10, random_state=seed, shuffle=True) # 十摺交叉驗證樣本切分\n",
    "    # ValueError: Setting a random_state has no effect since shuffle is False. You should leave random_state to its default (None), or set shuffle=True.\n",
    "    cv_results = cross_val_score(model, X, Y, cv=kfold, scoring=scoring)\n",
    "    results.append(cv_results)\n",
    "    names.append(name)\n",
    "    msg = \"%s: %f (%f)\" % (name, cv_results.mean(), cv_results.std())\n",
    "    print(msg)\n",
    "    \n",
    "# boxplot algorithm comparison\n",
    "fig = plt.figure()\n",
    "fig.suptitle('Algorithm Comparison')\n",
    "ax = fig.add_subplot(111)\n",
    "plt.boxplot(results)\n",
    "ax.set_xticklabels(names)\n",
    "plt.show()\n",
    "\n",
    "for result in results:\n",
    "    print(result)"
   ]
  },
  {
   "cell_type": "code",
   "execution_count": null,
   "id": "70cf8f36-668a-492f-bdb6-ddaea9f87b22",
   "metadata": {},
   "outputs": [],
   "source": [
    "\n",
    "# 可自行完成統計檢定：ANOVA檢定檢視是否有顯著的差異\n",
    "\n",
    "import scipy.stats as stats\n",
    "\n",
    "fvalue, pvalue = stats.f_oneway(results[0], results[1], results[2], results[3])\n",
    "\n",
    "print(fvalue, pvalue)\n",
    "\n",
    "dfn, dfd = 5, 55\n",
    "stats.f.sf(fvalue,dfn,dfd)\n",
    "\n",
    "# P(F>3.7728334504659156)=0.0052222146020425185 (p-value < 0.05)\n",
    "# Therefore, the hypothesis H0:mean1=mean2=...=mean6 is rejected.\n",
    "# That is, at least one of these 6 models is better than others."
   ]
  },
  {
   "cell_type": "code",
   "execution_count": null,
   "id": "e254a6f7-204e-47ed-8fc6-dcd0ea58dafb",
   "metadata": {},
   "outputs": [],
   "source": []
  },
  {
   "cell_type": "code",
   "execution_count": null,
   "id": "7dfb93e3-34cc-40b2-9ddb-90945dd48466",
   "metadata": {},
   "outputs": [],
   "source": []
  },
  {
   "cell_type": "code",
   "execution_count": null,
   "id": "b6797f40-05a9-4ae5-8965-6d6c353c7edd",
   "metadata": {},
   "outputs": [],
   "source": []
  },
  {
   "cell_type": "code",
   "execution_count": null,
   "id": "bbaa375e-70eb-4089-85bb-81d559d199a3",
   "metadata": {},
   "outputs": [],
   "source": []
  },
  {
   "cell_type": "code",
   "execution_count": null,
   "id": "7241ef9e-d3ee-4880-abdb-019564b8f49f",
   "metadata": {},
   "outputs": [],
   "source": []
  },
  {
   "cell_type": "code",
   "execution_count": null,
   "id": "ccda0054-328f-4c02-a669-76488648f42b",
   "metadata": {},
   "outputs": [],
   "source": []
  },
  {
   "cell_type": "code",
   "execution_count": null,
   "id": "f72de55e-0974-4a5c-8e42-0cb8ea01a45a",
   "metadata": {},
   "outputs": [],
   "source": []
  },
  {
   "cell_type": "code",
   "execution_count": null,
   "id": "65d22d2a-4ebc-4514-9648-e7777bb26843",
   "metadata": {},
   "outputs": [],
   "source": []
  },
  {
   "cell_type": "code",
   "execution_count": null,
   "id": "b8372c51-e9ab-4116-8ad0-5cd94d0dca0d",
   "metadata": {},
   "outputs": [],
   "source": []
  },
  {
   "cell_type": "code",
   "execution_count": null,
   "id": "a07fb2a1-0434-4890-9606-8bcb762b4d14",
   "metadata": {},
   "outputs": [],
   "source": []
  },
  {
   "cell_type": "code",
   "execution_count": null,
   "id": "3eb5f4f9-e1b6-49fd-a297-2db55ec8a24a",
   "metadata": {},
   "outputs": [],
   "source": []
  },
  {
   "cell_type": "code",
   "execution_count": null,
   "id": "b94f25a4-8c5a-4d3d-9edb-74ab69a038e5",
   "metadata": {},
   "outputs": [],
   "source": []
  },
  {
   "cell_type": "code",
   "execution_count": null,
   "id": "addcede8-d7da-49ae-80ab-d010cdf7fe9d",
   "metadata": {},
   "outputs": [],
   "source": []
  },
  {
   "cell_type": "code",
   "execution_count": null,
   "id": "f3702f9e-0588-4f97-abc9-362b18f6d217",
   "metadata": {},
   "outputs": [],
   "source": []
  },
  {
   "cell_type": "code",
   "execution_count": null,
   "id": "e13133c5-bfd5-454c-8cfd-8504a0558f6e",
   "metadata": {},
   "outputs": [],
   "source": [
    "pip install yellowbrick"
   ]
  },
  {
   "cell_type": "code",
   "execution_count": null,
   "id": "43dc91a4-17b8-44b4-8674-51850897b8b2",
   "metadata": {},
   "outputs": [],
   "source": []
  },
  {
   "cell_type": "code",
   "execution_count": null,
   "id": "5652efe9-2127-49b2-bf82-0d35f5bdc7bf",
   "metadata": {},
   "outputs": [],
   "source": [
    "sc = StandardScaler()\n",
    "X_train_std = sc.fit_transform(X_train.iloc[:,:13])\n",
    "X_test_std = sc.transform(X_test.iloc[:,:13])\n",
    "\n",
    "\n",
    "cov_mat = np.cov(X_train_std.T)\n",
    "eigen_vals, eigen_vecs = np.linalg.eig(cov_mat)\n",
    "\n",
    "print('\\nEigenvalues \\n%s' % eigen_vals)\n",
    "\n",
    "\n",
    "tot = sum(eigen_vals)\n",
    "var_exp = [(i / tot) for i in sorted(eigen_vals, reverse=True)]\n",
    "cum_var_exp = np.cumsum(var_exp)\n",
    "\n",
    "\n",
    "plt.bar(range(1, 14), var_exp, alpha=0.5, align='center',\n",
    "        label='Individual explained variance')\n",
    "plt.step(range(1, 14), cum_var_exp, where='mid',\n",
    "         label='Cumulative explained variance')\n",
    "plt.ylabel('Explained variance ratio')\n",
    "plt.xlabel('Principal component index')\n",
    "plt.legend(loc='best')\n",
    "plt.tight_layout()\n",
    "# plt.savefig('images/05_02.png', dpi=300)\n",
    "plt.show()"
   ]
  },
  {
   "cell_type": "code",
   "execution_count": null,
   "id": "39088b85-8350-4683-83e9-78bf4ea2e060",
   "metadata": {},
   "outputs": [],
   "source": []
  },
  {
   "cell_type": "code",
   "execution_count": null,
   "id": "aa8d2200-6120-42e9-ad12-3f685e9bdee5",
   "metadata": {},
   "outputs": [],
   "source": []
  },
  {
   "cell_type": "code",
   "execution_count": null,
   "id": "a1165d80-0c01-49c9-aab1-71567f0c68ec",
   "metadata": {},
   "outputs": [],
   "source": []
  },
  {
   "cell_type": "code",
   "execution_count": null,
   "id": "a007678e-8ccd-4213-8bd7-6591c1fc8856",
   "metadata": {},
   "outputs": [],
   "source": []
  },
  {
   "cell_type": "code",
   "execution_count": null,
   "id": "08f721bb-72c5-4b76-a0f8-65ed2d1f4459",
   "metadata": {},
   "outputs": [],
   "source": []
  },
  {
   "cell_type": "markdown",
   "id": "6b1b66a9-cf3f-4322-87d6-4ad7babd888f",
   "metadata": {
    "tags": []
   },
   "source": [
    "# KNN"
   ]
  },
  {
   "cell_type": "code",
   "execution_count": null,
   "id": "b2a59b97-e688-431f-abbb-ea9d87e6c965",
   "metadata": {},
   "outputs": [],
   "source": [
    "df_pos = pd.read_csv(\"pos_data(12-26已刪除離群值).csv\", encoding='utf-8-sig')\n",
    "df_neg = pd.read_csv(\"neg_data(12-26已刪除離群值).csv\", encoding='utf-8-sig')\n",
    "\n",
    "df_neg = df_neg.iloc[:df_pos.shape[0],:]\n",
    "\n",
    "df = pd.concat([df_pos, df_neg], axis=0)\n",
    "df2018to2021 = df[df['發生年度']!=2022] \n",
    "df2022 = df[df['發生年度']==2022] \n",
    "\n",
    "X_train, y_train = df2018to2021.iloc[:,:-1], df2018to2021.iloc[:,-1]\n",
    "X_test, y_test = df2022.iloc[:,:-1], df2022.iloc[:,-1]"
   ]
  },
  {
   "cell_type": "markdown",
   "id": "d54b4d0c-0276-4fed-97fe-c62682246cc4",
   "metadata": {},
   "source": [
    "### 循序特徵選擇演算法 SBS (Sequential feature selection algorithms)"
   ]
  },
  {
   "cell_type": "code",
   "execution_count": null,
   "id": "c3523253-f5fd-4944-861f-86991c800de6",
   "metadata": {},
   "outputs": [],
   "source": [
    "class SBS():\n",
    "    def __init__(self, estimator, k_features, scoring=accuracy_score,\n",
    "                 test_size=0.25, random_state=1):\n",
    "        self.scoring = scoring\n",
    "        self.estimator = clone(estimator)\n",
    "        self.k_features = k_features\n",
    "        self.test_size = test_size\n",
    "        self.random_state = random_state\n",
    "\n",
    "    def fit(self, X, y):\n",
    "        \n",
    "        X_train, X_test, y_train, y_test = \\\n",
    "            train_test_split(X, y, test_size=self.test_size,\n",
    "                             random_state=self.random_state)\n",
    "\n",
    "        dim = X_train.shape[1]\n",
    "        self.indices_ = tuple(range(dim))\n",
    "        self.subsets_ = [self.indices_]\n",
    "        score = self._calc_score(X_train, y_train, \n",
    "                                 X_test, y_test, self.indices_)\n",
    "        self.scores_ = [score]\n",
    "\n",
    "        while dim > self.k_features:\n",
    "            print('dim: ',dim)\n",
    "            scores = []\n",
    "            subsets = []\n",
    "\n",
    "            for p in combinations(self.indices_, r=dim - 1):\n",
    "                score = self._calc_score(X_train, y_train, \n",
    "                                         X_test, y_test, p)\n",
    "                scores.append(score)\n",
    "                subsets.append(p)\n",
    "\n",
    "            best = np.argmax(scores)\n",
    "            self.indices_ = subsets[best]\n",
    "            self.subsets_.append(self.indices_)\n",
    "            dim -= 1\n",
    "\n",
    "            self.scores_.append(scores[best])\n",
    "        self.k_score_ = self.scores_[-1]\n",
    "\n",
    "        return self\n",
    "\n",
    "    def transform(self, X):\n",
    "        return X[:, self.indices_]\n",
    "\n",
    "    def _calc_score(self, X_train, y_train, X_test, y_test, indices):\n",
    "        self.estimator.fit(X_train[:, indices], y_train)\n",
    "        y_pred = self.estimator.predict(X_test[:, indices])\n",
    "        score = self.scoring(y_test, y_pred)\n",
    "        return score"
   ]
  },
  {
   "cell_type": "markdown",
   "id": "5725e6ac-9f10-4dd4-b852-b5c6bf601e83",
   "metadata": {},
   "source": [
    "### 開始fit SBS KNN"
   ]
  },
  {
   "cell_type": "code",
   "execution_count": null,
   "id": "ede8b78f-2b8e-4fd6-94f0-a4fec9ec54af",
   "metadata": {},
   "outputs": [],
   "source": [
    "X = X_train.copy()\n",
    "y = y_train.copy()\n",
    "\n",
    "X = logData().fit(X).transform(X)\n",
    "X = StandardScaler().fit_transform(X)\n",
    "# X = DateWeatherPCA().fit(X).transform(X)"
   ]
  },
  {
   "cell_type": "code",
   "execution_count": null,
   "id": "5c964900-d2c8-4911-9d91-d558d04bf084",
   "metadata": {},
   "outputs": [],
   "source": [
    "knn = KNeighborsClassifier(n_neighbors=3, n_jobs=6)\n",
    "\n",
    "# selecting features\n",
    "sbs = SBS(knn, k_features=1)\n",
    "sbs.fit(X, y)\n",
    "\n",
    "# plotting performance of feature subsets\n",
    "k_feat = [len(k) for k in sbs.subsets_]"
   ]
  },
  {
   "cell_type": "code",
   "execution_count": null,
   "id": "a4292c77-0ab3-4807-82b6-07e189ed3bc6",
   "metadata": {},
   "outputs": [],
   "source": [
    "sbs.subsets_"
   ]
  },
  {
   "cell_type": "code",
   "execution_count": null,
   "id": "c7147b57-a2b5-4ffb-876a-d87dbaf20b4c",
   "metadata": {},
   "outputs": [],
   "source": [
    "variables = ['時間主成分1','時間主成分2','時間主成分3','時間主成分4','經度','緯度','天氣主成分1','天氣主成分2','天氣主成分3','人口密度','車流量']\n",
    "preScore = None\n",
    "preSet = None\n",
    "for i in range(len(sbs.scores_)):\n",
    "    score = sbs.scores_[i]\n",
    "    thisSet = set(sbs.subsets_[i])\n",
    "    \n",
    "    improve = f\"正確率進步: {score-preScore}\" if preScore else \"無前一輪\"\n",
    "    deleted = f'本輪刪除({list(preSet - thisSet)[0]}){variables[list(preSet - thisSet)[0]]}' if preSet else \"未刪除變數\"\n",
    "    \n",
    "    print(f'第{i+1}輪訓練--本輪正確率:{score}，{improve}，{deleted}',f'，訓練子集合:{[variables[i] for i in thisSet]}')\n",
    "    preScore = score\n",
    "    preSet = thisSet"
   ]
  },
  {
   "cell_type": "code",
   "execution_count": null,
   "id": "ad156805-96e7-47be-aaa7-29825742f9bf",
   "metadata": {},
   "outputs": [],
   "source": [
    "plt.plot(k_feat, sbs.scores_, marker='o')\n",
    "plt.ylim([0.5, 1.02])\n",
    "plt.ylabel('Accuracy')\n",
    "plt.xlabel('Number of features')\n",
    "plt.grid()\n",
    "\n",
    "plt.tight_layout()\n",
    "# plt.savefig('images/04_08.png', dpi=300)\n",
    "plt.show()\n"
   ]
  },
  {
   "cell_type": "code",
   "execution_count": null,
   "id": "6fd674fe-d080-4398-b007-2c415e8fb930",
   "metadata": {},
   "outputs": [],
   "source": []
  }
 ],
 "metadata": {
  "kernelspec": {
   "display_name": "Python 3 (ipykernel)",
   "language": "python",
   "name": "python3"
  },
  "language_info": {
   "codemirror_mode": {
    "name": "ipython",
    "version": 3
   },
   "file_extension": ".py",
   "mimetype": "text/x-python",
   "name": "python",
   "nbconvert_exporter": "python",
   "pygments_lexer": "ipython3",
   "version": "3.9.12"
  }
 },
 "nbformat": 4,
 "nbformat_minor": 5
}
